from fastapi import FastAPI
from pydantic import BaseModel
import os
from openai import OpenAI
from dotenv import load_dotenv


load_dotenv()  # Load environment variables from .env file

api_key = os.getenv("OPENAI_API_KEY")
app = FastAPI()


async def summarize(doc: DocIn): 
    if not api_key:
        return {"summary": "OpenAI API key not found in environment."}
    else:
        openai = OpenAI()
    resp = openai.chat.completions.create(
        model="gpt-4o-mini",
        temperature=0.2,
        messages=[
            {
                "role": "user",
                "content": f"Explain in plain English: {doc.text[:2000]}"
            }
        ]
    )
    return {"summary": resp.choices[0].message.content}


doc = ''' 
Amazon SageMaker is a fully managed AWS service for building, training, and deploying machine learning models at scale. The SageMaker SDK simplifies interacting with SageMaker programmatically. Amazon SageMaker SDK provides a seamless integration specifically designed for Hugging Face models, simplifying the deployment process of managed endpoints. With this integration, you can quickly deploy pre-trained Hugging Face models or your own fine-tuned models directly into SageMaker-managed endpoints, significantly reducing setup complexity and time to production.
'''





class DocIn(BaseModel):
    text: str

@app.post("/summarize")
async def summarize(doc: DocIn): 
    if not api_key:
        return {"summary": "OpenAI API key not found in environment."}
    else:
        openai = OpenAI()
    resp = openai.chat.completions.create(
        model="gpt-40-mini",
        temperature=0.2,
        messages=[
            {
                "role": "user",
                "content": f"Explain in plain English: {doc.text[:2000]}"
            }
        ]
    )
    return {"summary": resp.choices[0].message.content}
