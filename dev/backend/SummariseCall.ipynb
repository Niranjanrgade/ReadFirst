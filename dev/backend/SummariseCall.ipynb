{
 "cells": [
  {
   "cell_type": "code",
   "execution_count": 1,
   "id": "744189e2-4ed9-4ec7-83d6-e3264c9fe671",
   "metadata": {},
   "outputs": [],
   "source": [
    "from fastapi import FastAPI\n",
    "from pydantic import BaseModel\n",
    "import os\n",
    "from openai import OpenAI\n",
    "from dotenv import load_dotenv"
   ]
  },
  {
   "cell_type": "code",
   "execution_count": 2,
   "id": "3a37e2e9-d141-447d-9f3a-a53e786997d3",
   "metadata": {},
   "outputs": [],
   "source": [
    "load_dotenv()  # Load environment variables from .env file\n",
    "\n",
    "api_key = os.getenv(\"OPENAI_API_KEY\")\n",
    "app = FastAPI()"
   ]
  },
  {
   "cell_type": "code",
   "execution_count": 17,
   "id": "7a22abb0-ac56-4485-bf53-9b253533334b",
   "metadata": {},
   "outputs": [],
   "source": [
    "def summarize(doc=''): \n",
    "    if not api_key:\n",
    "        return {\"summary\": \"OpenAI API key not found in environment.\"}\n",
    "    else:\n",
    "        openai = OpenAI()\n",
    "        resp = openai.chat.completions.create(\n",
    "            model=\"gpt-4o-mini\",\n",
    "            temperature=0.2,\n",
    "            messages=[\n",
    "                {\n",
    "                    \"role\": \"user\",\n",
    "                    \"content\": f\"Explain in plain English in 25 words: {doc[:2000]}\"\n",
    "                }\n",
    "            ]\n",
    "        )\n",
    "        return {\"summary\": resp.choices[0].message.content}"
   ]
  },
  {
   "cell_type": "code",
   "execution_count": 18,
   "id": "538255c9-2491-4fe0-9193-1258658e8c3c",
   "metadata": {},
   "outputs": [],
   "source": [
    "doc = ''' \n",
    "Amazon SageMaker is a fully managed AWS service for building, training, and deploying machine learning models at scale. The SageMaker SDK simplifies interacting with SageMaker programmatically. Amazon SageMaker SDK provides a seamless integration specifically designed for Hugging Face models, simplifying the deployment process of managed endpoints. With this integration, you can quickly deploy pre-trained Hugging Face models or your own fine-tuned models directly into SageMaker-managed endpoints, significantly reducing setup complexity and time to production.\n",
    "'''"
   ]
  },
  {
   "cell_type": "code",
   "execution_count": 19,
   "id": "21d08daf-a150-48f4-b280-ac49794867a3",
   "metadata": {},
   "outputs": [
    {
     "name": "stdout",
     "output_type": "stream",
     "text": [
      "{'summary': 'Amazon SageMaker helps you easily create, train, and launch machine learning models. It works well with Hugging Face models, making deployment quick and simple.'}\n"
     ]
    }
   ],
   "source": [
    "print(summarize(doc))"
   ]
  },
  {
   "cell_type": "code",
   "execution_count": null,
   "id": "3f0309a1-6633-40dd-a9f8-488960ab5799",
   "metadata": {},
   "outputs": [],
   "source": [
    "class DocIn(BaseModel):\n",
    "    text: str\n",
    "\n",
    "@app.post(\"/summarize\")\n",
    "async def summarize(doc: DocIn): \n",
    "    if not api_key:\n",
    "        return {\"summary\": \"OpenAI API key not found in environment.\"}\n",
    "    else:\n",
    "        openai = OpenAI()\n",
    "    resp = openai.chat.completions.create(\n",
    "        model=\"gpt-4o-mini\",\n",
    "        temperature=0.2,\n",
    "        messages=[\n",
    "            {\n",
    "                \"role\": \"user\",\n",
    "                \"content\": f\"Explain in plain English: {doc.text[:2000]}\"\n",
    "            }\n",
    "        ]\n",
    "    )\n",
    "    return {\"summary\": resp.choices[0].message.content}"
   ]
  }
 ],
 "metadata": {
  "kernelspec": {
   "display_name": "Python 3 (ipykernel)",
   "language": "python",
   "name": "python3"
  },
  "language_info": {
   "codemirror_mode": {
    "name": "ipython",
    "version": 3
   },
   "file_extension": ".py",
   "mimetype": "text/x-python",
   "name": "python",
   "nbconvert_exporter": "python",
   "pygments_lexer": "ipython3",
   "version": "3.12.7"
  }
 },
 "nbformat": 4,
 "nbformat_minor": 5
}
